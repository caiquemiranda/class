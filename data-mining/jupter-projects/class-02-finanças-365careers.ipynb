{
 "cells": [
  {
   "cell_type": "code",
   "execution_count": null,
   "metadata": {},
   "outputs": [],
   "source": [
    "# calculo taxa de retorno simples"
   ]
  },
  {
   "cell_type": "code",
   "execution_count": null,
   "metadata": {},
   "outputs": [],
   "source": [
    "import numpy as np\n",
    "from pandas_datareader import data as wb\n",
    "import matplotlib.pyplot as plt\n",
    "import pandas as pd"
   ]
  },
  {
   "cell_type": "code",
   "execution_count": null,
   "metadata": {},
   "outputs": [],
   "source": [
    "#ações da\n",
    "PG = wb.DataReader('PG', data_source='yahoo', start='1995-1-1') "
   ]
  },
  {
   "cell_type": "code",
   "execution_count": null,
   "metadata": {},
   "outputs": [],
   "source": [
    "PG['Close'].plot();"
   ]
  },
  {
   "cell_type": "code",
   "execution_count": null,
   "metadata": {},
   "outputs": [],
   "source": [
    "PG.head()"
   ]
  },
  {
   "cell_type": "code",
   "execution_count": null,
   "metadata": {},
   "outputs": [],
   "source": [
    "PG.tail()"
   ]
  },
  {
   "cell_type": "code",
   "execution_count": null,
   "metadata": {},
   "outputs": [],
   "source": [
    "# (close(1)/close(0))-1\n",
    "# pct.change() metodo faz calculo\n",
    "PG['Retorno-simples'] = (PG['Adj Close'] / PG['Adj Close'].shift(1)) - 1\n",
    "PG"
   ]
  },
  {
   "cell_type": "code",
   "execution_count": null,
   "metadata": {},
   "outputs": [],
   "source": [
    "PG['Retorno-simples'].plot();"
   ]
  },
  {
   "cell_type": "code",
   "execution_count": null,
   "metadata": {},
   "outputs": [],
   "source": [
    "#configuração da plotagem dos graficos\n",
    "from pylab import mpl, plt\n",
    "\n",
    "plt.style.use('seaborn')\n",
    "mpl.rcParams['savefig.dpi'] = 300\n",
    "mpl.rcParams['font.family'] = 'serif'"
   ]
  },
  {
   "cell_type": "code",
   "execution_count": null,
   "metadata": {},
   "outputs": [],
   "source": [
    "PG['Close'].plot(figsize=(10, 5));"
   ]
  },
  {
   "cell_type": "code",
   "execution_count": null,
   "metadata": {},
   "outputs": [],
   "source": [
    "PG['Retorno-simples'].plot(figsize=(10, 5));"
   ]
  },
  {
   "cell_type": "code",
   "execution_count": null,
   "metadata": {},
   "outputs": [],
   "source": [
    "# média dos retornos diarios PG\n",
    "avg_returns_d = PG['Retorno-simples'].mean()\n",
    "avg_returns_d"
   ]
  },
  {
   "cell_type": "code",
   "execution_count": null,
   "metadata": {},
   "outputs": [],
   "source": [
    "# média dos retornos anuais PG\n",
    "avg_returns_a = PG['Retorno-simples'].mean() * 250 # média de dias de negociação\n",
    "avg_returns_a"
   ]
  },
  {
   "cell_type": "code",
   "execution_count": null,
   "metadata": {},
   "outputs": [],
   "source": [
    "print( str (round(avg_returns_a, 5) * 100) + ' %')"
   ]
  },
  {
   "cell_type": "code",
   "execution_count": null,
   "metadata": {},
   "outputs": [],
   "source": [
    "# retornos logaritmos \n",
    "PG['Retornos-log'] = np.log(PG['Adj Close'] / PG['Adj Close'].shift(1))\n",
    "PG['Retornos-log']"
   ]
  },
  {
   "cell_type": "code",
   "execution_count": null,
   "metadata": {},
   "outputs": [],
   "source": [
    "log_return_d = PG['Retornos-log'].mean()\n",
    "log_return_d"
   ]
  },
  {
   "cell_type": "code",
   "execution_count": null,
   "metadata": {},
   "outputs": [],
   "source": [
    "log_return_a = PG['Retornos-log'].mean() * 250\n",
    "log_return_a"
   ]
  },
  {
   "cell_type": "code",
   "execution_count": null,
   "metadata": {},
   "outputs": [],
   "source": [
    "print( str (round(log_return_a, 5) * 100) + ' %')"
   ]
  },
  {
   "cell_type": "code",
   "execution_count": null,
   "metadata": {},
   "outputs": [],
   "source": [
    "# usar retorno simples quando estamos avaliando varias ações ao mesmo tempo\n",
    "# usar retorno logaritmo quando estamos avaliando uma unica ação"
   ]
  },
  {
   "cell_type": "code",
   "execution_count": null,
   "metadata": {},
   "outputs": [],
   "source": [
    "# Calculando retorno de um portifólio"
   ]
  },
  {
   "cell_type": "code",
   "execution_count": null,
   "metadata": {},
   "outputs": [],
   "source": [
    "# lista com ticker das ações \n",
    "tickers = ['PG', 'MSFT', 'F', 'GE']\n",
    "dados = pd.DataFrame()\n",
    "\n",
    "for t in tickers:\n",
    "    dados[t] = wb.DataReader(t, data_source='yahoo', start='1995-1-1')['Adj Close']"
   ]
  },
  {
   "cell_type": "code",
   "execution_count": null,
   "metadata": {},
   "outputs": [],
   "source": [
    "dados.info()"
   ]
  },
  {
   "cell_type": "code",
   "execution_count": null,
   "metadata": {},
   "outputs": [],
   "source": [
    "dados.head()"
   ]
  },
  {
   "cell_type": "code",
   "execution_count": null,
   "metadata": {},
   "outputs": [],
   "source": [
    "dados.tail()"
   ]
  },
  {
   "cell_type": "code",
   "execution_count": null,
   "metadata": {},
   "outputs": [],
   "source": [
    "dados.iloc[0]"
   ]
  },
  {
   "cell_type": "code",
   "execution_count": null,
   "metadata": {},
   "outputs": [],
   "source": [
    "# plotagem sem normalizar\n",
    "dados.plot(figsize=(15, 6));"
   ]
  },
  {
   "cell_type": "code",
   "execution_count": null,
   "metadata": {},
   "outputs": [],
   "source": [
    "# normalização dos dados base 100\n",
    "(dados / dados.iloc[0] * 100).plot(figsize=(15, 6));"
   ]
  },
  {
   "cell_type": "code",
   "execution_count": null,
   "metadata": {},
   "outputs": [],
   "source": [
    "dados.loc['1995-01-03'] # rótulo"
   ]
  },
  {
   "cell_type": "code",
   "execution_count": null,
   "metadata": {},
   "outputs": [],
   "source": [
    "dados.iloc[0] # indice"
   ]
  },
  {
   "cell_type": "code",
   "execution_count": null,
   "metadata": {},
   "outputs": [],
   "source": [
    "# calculando retorno do portifólio\n",
    "retornos = (dados / dados.shift(1)) - 1"
   ]
  },
  {
   "cell_type": "code",
   "execution_count": null,
   "metadata": {},
   "outputs": [],
   "source": [
    "retornos.head()"
   ]
  },
  {
   "cell_type": "code",
   "execution_count": null,
   "metadata": {},
   "outputs": [],
   "source": [
    "# lista com pesos \n",
    "pesos = np.array([0.25, 0.25, 0.25, 0.25])"
   ]
  },
  {
   "cell_type": "code",
   "execution_count": null,
   "metadata": {},
   "outputs": [],
   "source": [
    "# np.dot calcula o produto de um vetor o matriz - produto escalar\n",
    "np.dot(retornos, pesos)\n"
   ]
  },
  {
   "cell_type": "code",
   "execution_count": null,
   "metadata": {},
   "outputs": [],
   "source": [
    "anual_retornos = retornos.mean() * 250\n",
    "anual_retornos"
   ]
  },
  {
   "cell_type": "code",
   "execution_count": null,
   "metadata": {},
   "outputs": [],
   "source": [
    "np.dot(anual_retornos, pesos)"
   ]
  },
  {
   "cell_type": "code",
   "execution_count": null,
   "metadata": {},
   "outputs": [],
   "source": [
    "portifolio = str(round(np.dot(anual_retornos, pesos), 5) * 100) + '%'"
   ]
  },
  {
   "cell_type": "code",
   "execution_count": null,
   "metadata": {},
   "outputs": [],
   "source": [
    "portifolio"
   ]
  },
  {
   "cell_type": "code",
   "execution_count": null,
   "metadata": {},
   "outputs": [],
   "source": [
    "# comparando com pesos de outra carteira\n",
    "pesos_2 = np.array([0.4, 0.4, 0.15, 0.05])"
   ]
  },
  {
   "cell_type": "code",
   "execution_count": null,
   "metadata": {},
   "outputs": [],
   "source": [
    "portifolio_2 = str(round(np.dot(anual_retornos, pesos_2), 5) * 100) + '%'"
   ]
  },
  {
   "cell_type": "code",
   "execution_count": null,
   "metadata": {},
   "outputs": [],
   "source": [
    "portifolio_2"
   ]
  },
  {
   "cell_type": "code",
   "execution_count": null,
   "metadata": {},
   "outputs": [],
   "source": [
    "print(portifolio)\n",
    "print(portifolio_2)"
   ]
  },
  {
   "cell_type": "code",
   "execution_count": null,
   "metadata": {},
   "outputs": [],
   "source": [
    "# indice de açoes \n",
    "indices = ['^GSPC', # S&P500\n",
    "           '^IXIC', # NASDAQ\n",
    "           '^GDAXI', # DAX alemanha\n",
    "           '^BVSP', # BOVESP Brasil\n",
    "           ]"
   ]
  },
  {
   "cell_type": "code",
   "execution_count": null,
   "metadata": {},
   "outputs": [],
   "source": [
    "dados_ind = pd.DataFrame()\n",
    "\n",
    "for i in  indices:\n",
    "    dados_ind[i] = wb.DataReader(i, data_source='yahoo', start='1997-1-1')['Adj Close']"
   ]
  },
  {
   "cell_type": "code",
   "execution_count": null,
   "metadata": {},
   "outputs": [],
   "source": [
    "dados_ind.head()"
   ]
  },
  {
   "cell_type": "code",
   "execution_count": null,
   "metadata": {},
   "outputs": [],
   "source": [
    "dados_ind.tail()"
   ]
  },
  {
   "cell_type": "code",
   "execution_count": null,
   "metadata": {},
   "outputs": [],
   "source": [
    "# plotagem sem normalizar \n",
    "dados_ind.plot(figsize=(15, 6));"
   ]
  },
  {
   "cell_type": "code",
   "execution_count": null,
   "metadata": {},
   "outputs": [],
   "source": [
    "# normalização dos dados base 100\n",
    "(dados_ind / dados_ind.iloc[0] * 100).plot(figsize=(15, 6));"
   ]
  },
  {
   "cell_type": "code",
   "execution_count": null,
   "metadata": {},
   "outputs": [],
   "source": [
    "indices_retornos = (dados_ind / dados_ind.shift(1)) - 1\n",
    "indices_retornos.tail()"
   ]
  },
  {
   "cell_type": "code",
   "execution_count": null,
   "metadata": {},
   "outputs": [],
   "source": [
    "anual_indices_retornos = indices_retornos.mean() * 250\n",
    "anual_indices_retornos"
   ]
  },
  {
   "cell_type": "code",
   "execution_count": null,
   "metadata": {},
   "outputs": [],
   "source": [
    "# comparação com o melhor indice/ação/indice com pesos iguais DJI\n",
    "tickers_comp = ['PG', '^GSPC', '^DJI']\n",
    "\n",
    "comp_precos = pd.DataFrame()\n",
    "\n",
    "for t in tickers_comp:\n",
    "    comp_precos[t] = wb.DataReader(t, data_source='yahoo', start='2007-1-1')['Adj Close']"
   ]
  },
  {
   "cell_type": "code",
   "execution_count": null,
   "metadata": {},
   "outputs": [],
   "source": [
    "comp_precos.tail()"
   ]
  },
  {
   "cell_type": "code",
   "execution_count": null,
   "metadata": {},
   "outputs": [],
   "source": [
    "# normalização para ver performace durante um periodo\n",
    "(comp_precos / comp_precos.iloc[0] * 100).plot(figsize=(15, 6))\n",
    "plt.show() "
   ]
  },
  {
   "cell_type": "code",
   "execution_count": null,
   "metadata": {},
   "outputs": [],
   "source": [
    "# medindo risco de um ativo"
   ]
  },
  {
   "cell_type": "code",
   "execution_count": null,
   "metadata": {},
   "outputs": [],
   "source": [
    "tickers_risco = ['PG', 'BEI.DE']\n",
    "sec_data = pd.DataFrame()\n",
    "\n",
    "for t in tickers_risco:\n",
    "    sec_data[t] = wb.DataReader(t, data_source='yahoo', start='2007-1-1')['Adj Close']"
   ]
  },
  {
   "cell_type": "code",
   "execution_count": null,
   "metadata": {},
   "outputs": [],
   "source": [
    "sec_data.tail()"
   ]
  },
  {
   "cell_type": "code",
   "execution_count": null,
   "metadata": {},
   "outputs": [],
   "source": [
    "sec_retornos = np.log(sec_data / sec_data.shift(1))"
   ]
  },
  {
   "cell_type": "code",
   "execution_count": null,
   "metadata": {},
   "outputs": [],
   "source": [
    "sec_retornos"
   ]
  },
  {
   "cell_type": "code",
   "execution_count": null,
   "metadata": {},
   "outputs": [],
   "source": [
    "# média diária\n",
    "sec_retornos['PG'].mean()"
   ]
  },
  {
   "cell_type": "code",
   "execution_count": null,
   "metadata": {},
   "outputs": [],
   "source": [
    "# média anual\n",
    "sec_retornos['PG'].mean() *250"
   ]
  },
  {
   "cell_type": "code",
   "execution_count": null,
   "metadata": {},
   "outputs": [],
   "source": [
    "# desvio padrão\n",
    "sec_retornos['PG'].std()"
   ]
  },
  {
   "cell_type": "code",
   "execution_count": null,
   "metadata": {},
   "outputs": [],
   "source": [
    "# anualizando desvio padrão\n",
    "sec_retornos['PG'].std() *250 **0.5 # desvio padrão é a raiz quadrada da variancia"
   ]
  },
  {
   "cell_type": "code",
   "execution_count": null,
   "metadata": {},
   "outputs": [],
   "source": [
    "sec_retornos['BEI.DE'].mean()"
   ]
  },
  {
   "cell_type": "code",
   "execution_count": null,
   "metadata": {},
   "outputs": [],
   "source": [
    "sec_retornos['BEI.DE'].mean() *250"
   ]
  },
  {
   "cell_type": "code",
   "execution_count": null,
   "metadata": {},
   "outputs": [],
   "source": [
    "sec_retornos['BEI.DE'].std()"
   ]
  },
  {
   "cell_type": "code",
   "execution_count": null,
   "metadata": {},
   "outputs": [],
   "source": [
    "sec_retornos['BEI.DE'].std() *250 **0.5"
   ]
  },
  {
   "cell_type": "code",
   "execution_count": null,
   "metadata": {},
   "outputs": [],
   "source": [
    "print(sec_retornos['PG'].mean() *250)\n",
    "print(sec_retornos['BEI.DE'].mean() *250)"
   ]
  },
  {
   "cell_type": "code",
   "execution_count": null,
   "metadata": {},
   "outputs": [],
   "source": [
    "sec_retornos[['PG', 'BEI.DE']].mean() *250"
   ]
  },
  {
   "cell_type": "code",
   "execution_count": null,
   "metadata": {},
   "outputs": [],
   "source": [
    "sec_retornos[['PG', 'BEI.DE']].std() *250 *0.5"
   ]
  },
  {
   "cell_type": "code",
   "execution_count": null,
   "metadata": {},
   "outputs": [],
   "source": [
    "# calculando Covariancia e correlação\n",
    "PG_var = sec_retornos['PG'].var()"
   ]
  },
  {
   "cell_type": "code",
   "execution_count": null,
   "metadata": {},
   "outputs": [],
   "source": [
    "BEI_var = sec_retornos['BEI.DE'].var()"
   ]
  },
  {
   "cell_type": "code",
   "execution_count": null,
   "metadata": {},
   "outputs": [],
   "source": [
    "PG_var = sec_retornos['PG'].var() *250"
   ]
  },
  {
   "cell_type": "code",
   "execution_count": null,
   "metadata": {},
   "outputs": [],
   "source": [
    "BEI_var = sec_retornos['BEI.DE'].var() *250"
   ]
  },
  {
   "cell_type": "code",
   "execution_count": null,
   "metadata": {},
   "outputs": [],
   "source": [
    "# calculo de covariancia em uma tabela de valores\n",
    "cov_matrix = sec_retornos.cov()\n",
    "cov_matrix"
   ]
  },
  {
   "cell_type": "code",
   "execution_count": null,
   "metadata": {},
   "outputs": [],
   "source": [
    "cov_matrix_a = sec_retornos.cov() *250\n",
    "cov_matrix_a"
   ]
  },
  {
   "cell_type": "code",
   "execution_count": null,
   "metadata": {},
   "outputs": [],
   "source": [
    "# calculo ccorrelação\n",
    "corr_matrix = sec_retornos.corr()\n",
    "corr_matrix"
   ]
  },
  {
   "cell_type": "code",
   "execution_count": null,
   "metadata": {},
   "outputs": [],
   "source": [
    "# não devemos anualizar a tabela de correção"
   ]
  },
  {
   "cell_type": "code",
   "execution_count": null,
   "metadata": {},
   "outputs": [],
   "source": [
    "# calculo risco portifolio\n",
    "pesos_3 = np.array([0.5, 0.5])"
   ]
  },
  {
   "cell_type": "code",
   "execution_count": null,
   "metadata": {},
   "outputs": [],
   "source": [
    "portifolio_var = np.dot(pesos_3.T, np.dot(sec_retornos.cov() *250, pesos_3))\n",
    "portifolio_var"
   ]
  },
  {
   "cell_type": "code",
   "execution_count": null,
   "metadata": {},
   "outputs": [],
   "source": [
    "# volatilidade portifolio\n",
    "portifolio_vol = (np.dot(pesos_3.T, np.dot(sec_retornos.cov() *250, pesos_3))) **0.5\n",
    "portifolio_vol"
   ]
  },
  {
   "cell_type": "code",
   "execution_count": null,
   "metadata": {},
   "outputs": [],
   "source": [
    "print(str(round(portifolio_vol, 5) *100) + ' %')"
   ]
  },
  {
   "cell_type": "code",
   "execution_count": null,
   "metadata": {},
   "outputs": [],
   "source": [
    "# calculando risco de portifólio diversificado e não diversificado\n",
    "# risco diversificado == variancia do portifolio - variancia anual ponderada\n",
    "PG_var_a = sec_retornos[['PG']].var() *250\n",
    "PG_var_a"
   ]
  },
  {
   "cell_type": "code",
   "execution_count": null,
   "metadata": {},
   "outputs": [],
   "source": [
    "BEI_var_a = sec_retornos[['BEI.DE']].var() *250\n",
    "BEI_var_a"
   ]
  },
  {
   "cell_type": "code",
   "execution_count": null,
   "metadata": {},
   "outputs": [],
   "source": [
    "risco_div = portifolio_var - (pesos_3[0] **2 * PG_var_a) - (pesos_3[1] **2 * BEI_var_a)\n",
    "risco_div"
   ]
  },
  {
   "cell_type": "code",
   "execution_count": null,
   "metadata": {},
   "outputs": [],
   "source": [
    "float(PG_var_a)"
   ]
  },
  {
   "cell_type": "code",
   "execution_count": null,
   "metadata": {},
   "outputs": [],
   "source": [
    "PG_var_a = sec_retornos['PG'].var() *250\n",
    "PG_var_a"
   ]
  },
  {
   "cell_type": "code",
   "execution_count": null,
   "metadata": {},
   "outputs": [],
   "source": [
    "BEI_var_a = sec_retornos['BEI.DE'].var() *250\n",
    "BEI_var_a"
   ]
  },
  {
   "cell_type": "code",
   "execution_count": null,
   "metadata": {},
   "outputs": [],
   "source": [
    "risco_div = portifolio_var - (pesos_3[0] **2 * PG_var_a) - (pesos_3[1] **2 * BEI_var_a)\n",
    "risco_div"
   ]
  },
  {
   "cell_type": "code",
   "execution_count": null,
   "metadata": {},
   "outputs": [],
   "source": [
    "print(str(round(risco_div *100, 3)) + ' %')"
   ]
  },
  {
   "cell_type": "code",
   "execution_count": null,
   "metadata": {},
   "outputs": [],
   "source": [
    "n_dr_1 = portifolio_var - risco_div\n",
    "n_dr_1 = round(n_dr_1, 10)\n",
    "n_dr_1"
   ]
  },
  {
   "cell_type": "code",
   "execution_count": null,
   "metadata": {},
   "outputs": [],
   "source": [
    "n_dr_2 = (pesos_3[0] **2 *PG_var_a) + (pesos_3[1] **2 *BEI_var_a)\n",
    "n_dr_2 = round(n_dr_2, 10)\n",
    "n_dr_2"
   ]
  },
  {
   "cell_type": "code",
   "execution_count": null,
   "metadata": {},
   "outputs": [],
   "source": [
    "n_dr_1 == n_dr_2"
   ]
  },
  {
   "cell_type": "code",
   "execution_count": null,
   "metadata": {},
   "outputs": [],
   "source": [
    "# Regressão para analise financeira\n",
    "# uso do arquivo Housing.xlsx"
   ]
  },
  {
   "cell_type": "code",
   "execution_count": null,
   "metadata": {},
   "outputs": [],
   "source": [
    "# libs para regressão\n",
    "import scipy as stats\n",
    "import statsmodels.api as sm"
   ]
  },
  {
   "cell_type": "code",
   "execution_count": null,
   "metadata": {},
   "outputs": [],
   "source": [
    "data = pd.read_excel('../arquivos/Housing.xlsx')"
   ]
  },
  {
   "cell_type": "code",
   "execution_count": null,
   "metadata": {},
   "outputs": [],
   "source": [
    "data.head()"
   ]
  },
  {
   "cell_type": "code",
   "execution_count": null,
   "metadata": {},
   "outputs": [],
   "source": [
    "data[['House Price', 'House Size (sq.ft.)']].head()"
   ]
  },
  {
   "cell_type": "code",
   "execution_count": null,
   "metadata": {},
   "outputs": [],
   "source": [
    "x = data['House Size (sq.ft.)']\n",
    "y = data['House Price']"
   ]
  },
  {
   "cell_type": "code",
   "execution_count": null,
   "metadata": {},
   "outputs": [],
   "source": [
    "x.head()"
   ]
  },
  {
   "cell_type": "code",
   "execution_count": null,
   "metadata": {},
   "outputs": [],
   "source": [
    "y.head()"
   ]
  },
  {
   "cell_type": "code",
   "execution_count": null,
   "metadata": {},
   "outputs": [],
   "source": [
    "plt.scatter(x, y)\n",
    "plt.show();"
   ]
  },
  {
   "cell_type": "code",
   "execution_count": null,
   "metadata": {},
   "outputs": [],
   "source": [
    "# importante definir valores comparativos(0 ponto inicial, um pouco depois do ponto final)\n",
    "# plt.axis definem valores do grafico\n",
    "plt.scatter(x, y)\n",
    "plt.axis([0,2500, 0, 1500000])\n",
    "plt.show();"
   ]
  },
  {
   "cell_type": "code",
   "execution_count": null,
   "metadata": {},
   "outputs": [],
   "source": [
    "# gráficos devem ter legendas para melhor entendimento\n",
    "plt.scatter(x, y)\n",
    "plt.axis([0,2500, 0, 1500000])\n",
    "plt.xlabel('House Size (sq.ft)')\n",
    "plt.ylabel('House Price')\n",
    "plt.show();"
   ]
  },
  {
   "cell_type": "code",
   "execution_count": null,
   "metadata": {},
   "outputs": [],
   "source": [
    "# calculando alpha, beta, r^2"
   ]
  },
  {
   "cell_type": "code",
   "execution_count": null,
   "metadata": {},
   "outputs": [],
   "source": [
    "X1 = sm.add_constant(x)\n",
    "\n",
    "reg = sm.OLS(y, X1).fit()"
   ]
  },
  {
   "cell_type": "code",
   "execution_count": null,
   "metadata": {},
   "outputs": [],
   "source": [
    "reg.summary()"
   ]
  },
  {
   "cell_type": "code",
   "execution_count": null,
   "metadata": {},
   "outputs": [],
   "source": [
    "# usando a lib do scipy\n",
    "slope, intercept, r_value, p_value, std_err = stats.stats.linregress(x, y)"
   ]
  },
  {
   "cell_type": "code",
   "execution_count": null,
   "metadata": {},
   "outputs": [],
   "source": [
    "print(slope)\n",
    "print(intercept)\n",
    "print(r_value)\n",
    "print(r_value **2)\n",
    "print(p_value)\n",
    "print(std_err)"
   ]
  },
  {
   "cell_type": "code",
   "execution_count": null,
   "metadata": {},
   "outputs": [],
   "source": [
    "# otimização portifolio de markowitz \n",
    "# fronteira eficiente"
   ]
  },
  {
   "cell_type": "code",
   "execution_count": 124,
   "metadata": {},
   "outputs": [],
   "source": [
    "assets = ['PG', '^GSPC']\n",
    "portifolio_3 =  pd.DataFrame()\n",
    "for a in assets:\n",
    "    portifolio_3[a] = wb.DataReader(a, data_source='yahoo', start='2010-1-1')['Adj Close']"
   ]
  },
  {
   "cell_type": "code",
   "execution_count": 125,
   "metadata": {},
   "outputs": [
    {
     "data": {
      "text/html": [
       "<div>\n",
       "<style scoped>\n",
       "    .dataframe tbody tr th:only-of-type {\n",
       "        vertical-align: middle;\n",
       "    }\n",
       "\n",
       "    .dataframe tbody tr th {\n",
       "        vertical-align: top;\n",
       "    }\n",
       "\n",
       "    .dataframe thead th {\n",
       "        text-align: right;\n",
       "    }\n",
       "</style>\n",
       "<table border=\"1\" class=\"dataframe\">\n",
       "  <thead>\n",
       "    <tr style=\"text-align: right;\">\n",
       "      <th></th>\n",
       "      <th>PG</th>\n",
       "      <th>^GSPC</th>\n",
       "    </tr>\n",
       "    <tr>\n",
       "      <th>Date</th>\n",
       "      <th></th>\n",
       "      <th></th>\n",
       "    </tr>\n",
       "  </thead>\n",
       "  <tbody>\n",
       "    <tr>\n",
       "      <th>2022-01-24</th>\n",
       "      <td>161.300003</td>\n",
       "      <td>4410.129883</td>\n",
       "    </tr>\n",
       "    <tr>\n",
       "      <th>2022-01-25</th>\n",
       "      <td>159.539993</td>\n",
       "      <td>4356.450195</td>\n",
       "    </tr>\n",
       "    <tr>\n",
       "      <th>2022-01-26</th>\n",
       "      <td>158.149994</td>\n",
       "      <td>4349.930176</td>\n",
       "    </tr>\n",
       "    <tr>\n",
       "      <th>2022-01-27</th>\n",
       "      <td>159.130005</td>\n",
       "      <td>4326.509766</td>\n",
       "    </tr>\n",
       "    <tr>\n",
       "      <th>2022-01-28</th>\n",
       "      <td>160.500000</td>\n",
       "      <td>4431.850098</td>\n",
       "    </tr>\n",
       "  </tbody>\n",
       "</table>\n",
       "</div>"
      ],
      "text/plain": [
       "                    PG        ^GSPC\n",
       "Date                               \n",
       "2022-01-24  161.300003  4410.129883\n",
       "2022-01-25  159.539993  4356.450195\n",
       "2022-01-26  158.149994  4349.930176\n",
       "2022-01-27  159.130005  4326.509766\n",
       "2022-01-28  160.500000  4431.850098"
      ]
     },
     "execution_count": 125,
     "metadata": {},
     "output_type": "execute_result"
    }
   ],
   "source": [
    "portifolio_3.tail()"
   ]
  },
  {
   "cell_type": "code",
   "execution_count": 126,
   "metadata": {},
   "outputs": [
    {
     "data": {
      "image/png": "[encoded data removed]",
      "text/plain": [
       "<Figure size 720x360 with 1 Axes>"
      ]
     },
     "metadata": {},
     "output_type": "display_data"
    }
   ],
   "source": [
    "(portifolio_3 / portifolio_3.iloc[0] *100).plot(figsize=(10, 5));"
   ]
  },
  {
   "cell_type": "code",
   "execution_count": 127,
   "metadata": {},
   "outputs": [],
   "source": [
    "log_ret_port = np.log(portifolio_3 / portifolio_3.shift(1))"
   ]
  },
  {
   "cell_type": "code",
   "execution_count": 128,
   "metadata": {},
   "outputs": [
    {
     "data": {
      "text/plain": [
       "PG       0.109816\n",
       "^GSPC    0.112204\n",
       "dtype: float64"
      ]
     },
     "execution_count": 128,
     "metadata": {},
     "output_type": "execute_result"
    }
   ],
   "source": [
    "log_ret_port.mean() *250"
   ]
  },
  {
   "cell_type": "code",
   "execution_count": 129,
   "metadata": {},
   "outputs": [
    {
     "data": {
      "text/html": [
       "<div>\n",
       "<style scoped>\n",
       "    .dataframe tbody tr th:only-of-type {\n",
       "        vertical-align: middle;\n",
       "    }\n",
       "\n",
       "    .dataframe tbody tr th {\n",
       "        vertical-align: top;\n",
       "    }\n",
       "\n",
       "    .dataframe thead th {\n",
       "        text-align: right;\n",
       "    }\n",
       "</style>\n",
       "<table border=\"1\" class=\"dataframe\">\n",
       "  <thead>\n",
       "    <tr style=\"text-align: right;\">\n",
       "      <th></th>\n",
       "      <th>PG</th>\n",
       "      <th>^GSPC</th>\n",
       "    </tr>\n",
       "  </thead>\n",
       "  <tbody>\n",
       "    <tr>\n",
       "      <th>PG</th>\n",
       "      <td>0.028505</td>\n",
       "      <td>0.016770</td>\n",
       "    </tr>\n",
       "    <tr>\n",
       "      <th>^GSPC</th>\n",
       "      <td>0.016770</td>\n",
       "      <td>0.029481</td>\n",
       "    </tr>\n",
       "  </tbody>\n",
       "</table>\n",
       "</div>"
      ],
      "text/plain": [
       "             PG     ^GSPC\n",
       "PG     0.028505  0.016770\n",
       "^GSPC  0.016770  0.029481"
      ]
     },
     "execution_count": 129,
     "metadata": {},
     "output_type": "execute_result"
    }
   ],
   "source": [
    "log_ret_port.cov() *250"
   ]
  },
  {
   "cell_type": "code",
   "execution_count": 130,
   "metadata": {},
   "outputs": [
    {
     "data": {
      "text/html": [
       "<div>\n",
       "<style scoped>\n",
       "    .dataframe tbody tr th:only-of-type {\n",
       "        vertical-align: middle;\n",
       "    }\n",
       "\n",
       "    .dataframe tbody tr th {\n",
       "        vertical-align: top;\n",
       "    }\n",
       "\n",
       "    .dataframe thead th {\n",
       "        text-align: right;\n",
       "    }\n",
       "</style>\n",
       "<table border=\"1\" class=\"dataframe\">\n",
       "  <thead>\n",
       "    <tr style=\"text-align: right;\">\n",
       "      <th></th>\n",
       "      <th>PG</th>\n",
       "      <th>^GSPC</th>\n",
       "    </tr>\n",
       "  </thead>\n",
       "  <tbody>\n",
       "    <tr>\n",
       "      <th>PG</th>\n",
       "      <td>1.000000</td>\n",
       "      <td>0.578508</td>\n",
       "    </tr>\n",
       "    <tr>\n",
       "      <th>^GSPC</th>\n",
       "      <td>0.578508</td>\n",
       "      <td>1.000000</td>\n",
       "    </tr>\n",
       "  </tbody>\n",
       "</table>\n",
       "</div>"
      ],
      "text/plain": [
       "             PG     ^GSPC\n",
       "PG     1.000000  0.578508\n",
       "^GSPC  0.578508  1.000000"
      ]
     },
     "execution_count": 130,
     "metadata": {},
     "output_type": "execute_result"
    }
   ],
   "source": [
    "log_ret_port.corr()"
   ]
  },
  {
   "cell_type": "code",
   "execution_count": 131,
   "metadata": {},
   "outputs": [
    {
     "data": {
      "text/plain": [
       "2"
      ]
     },
     "execution_count": 131,
     "metadata": {},
     "output_type": "execute_result"
    }
   ],
   "source": [
    "num_assets = len(assets)\n",
    "num_assets"
   ]
  },
  {
   "cell_type": "code",
   "execution_count": 132,
   "metadata": {},
   "outputs": [
    {
     "data": {
      "text/plain": [
       "array([0.22549157, 0.14481742])"
      ]
     },
     "execution_count": 132,
     "metadata": {},
     "output_type": "execute_result"
    }
   ],
   "source": [
    "arr = np.random.random(2)\n",
    "arr"
   ]
  },
  {
   "cell_type": "code",
   "execution_count": 133,
   "metadata": {},
   "outputs": [
    {
     "data": {
      "text/plain": [
       "0.3703089870795184"
      ]
     },
     "execution_count": 133,
     "metadata": {},
     "output_type": "execute_result"
    }
   ],
   "source": [
    "arr[0] + arr[1]"
   ]
  },
  {
   "cell_type": "code",
   "execution_count": 134,
   "metadata": {},
   "outputs": [
    {
     "data": {
      "text/plain": [
       "array([0.09680682, 0.90319318])"
      ]
     },
     "execution_count": 134,
     "metadata": {},
     "output_type": "execute_result"
    }
   ],
   "source": [
    "pesos_4 = np.random.random(num_assets)\n",
    "pesos_4 /= np.sum(pesos_4)\n",
    "pesos_4"
   ]
  },
  {
   "cell_type": "code",
   "execution_count": 135,
   "metadata": {},
   "outputs": [
    {
     "data": {
      "text/plain": [
       "1.0"
      ]
     },
     "execution_count": 135,
     "metadata": {},
     "output_type": "execute_result"
    }
   ],
   "source": [
    "pesos_4[0] + pesos_4[1]"
   ]
  },
  {
   "cell_type": "code",
   "execution_count": 136,
   "metadata": {},
   "outputs": [],
   "source": [
    "# expectativa de rotorno do portifólio"
   ]
  },
  {
   "cell_type": "code",
   "execution_count": 137,
   "metadata": {},
   "outputs": [
    {
     "data": {
      "text/plain": [
       "0.11197316937933345"
      ]
     },
     "execution_count": 137,
     "metadata": {},
     "output_type": "execute_result"
    }
   ],
   "source": [
    "np.sum(pesos_4 *log_ret_port.mean()) *250"
   ]
  },
  {
   "cell_type": "code",
   "execution_count": 138,
   "metadata": {},
   "outputs": [
    {
     "data": {
      "text/plain": [
       "0.02724926654538319"
      ]
     },
     "execution_count": 138,
     "metadata": {},
     "output_type": "execute_result"
    }
   ],
   "source": [
    "# expectativa de variancia do portifólio\n",
    "np.dot(pesos_4.T, np.dot(log_ret_port.cov() *250, pesos_4))"
   ]
  },
  {
   "cell_type": "code",
   "execution_count": 140,
   "metadata": {},
   "outputs": [
    {
     "data": {
      "text/plain": [
       "0.16507351860726538"
      ]
     },
     "execution_count": 140,
     "metadata": {},
     "output_type": "execute_result"
    }
   ],
   "source": [
    "# expectativa de volatilidade\n",
    "np.sqrt(np.dot(pesos_4.T, np.dot(log_ret_port.cov() *250, pesos_4)))"
   ]
  },
  {
   "cell_type": "code",
   "execution_count": null,
   "metadata": {},
   "outputs": [],
   "source": [
    "port_ret = []\n",
    "port_vol = []\n",
    "for x in range(1000):\n",
    "    w = np.random.random(num_assets)\n",
    "    w /= np.sum(w)\n",
    "    port_ret.append(np.sum(w * log_ret_port.mean()) *250)\n",
    "    port_vol.append(np.sqrt(np.dot(w.T, np.dot(log_ret_port.cov() *250, w))))\n",
    "\n",
    "port_ret, port_vol"
   ]
  },
  {
   "cell_type": "code",
   "execution_count": 152,
   "metadata": {},
   "outputs": [
    {
     "data": {
      "text/plain": [
       "(array([0.11187387, 0.11109687, 0.11102899, 0.11100443, 0.11095795,\n",
       "        0.11182245, 0.11192904, 0.11078941, 0.11078074, 0.11017909,\n",
       "        0.11040964, 0.11044866, 0.11152589, 0.11140603, 0.11103494,\n",
       "        0.11041816, 0.1108714 , 0.11009755, 0.11064686, 0.11045767,\n",
       "        0.11145374, 0.11159571, 0.11016106, 0.11197525, 0.11051158,\n",
       "        0.11066979, 0.11108829, 0.11183945, 0.11161041, 0.11116835,\n",
       "        0.11155257, 0.11016478, 0.11092972, 0.11066179, 0.11139118,\n",
       "        0.11059866, 0.11101881, 0.11036113, 0.11111502, 0.11100101,\n",
       "        0.11053622, 0.11003453, 0.11015662, 0.11114042, 0.11219077,\n",
       "        0.11081437, 0.11039661, 0.11055236, 0.11051749, 0.11026721,\n",
       "        0.11037387, 0.11110006, 0.1099175 , 0.11055645, 0.11208393,\n",
       "        0.11053772, 0.11162023, 0.11108044, 0.110729  , 0.11005819,\n",
       "        0.11111998, 0.11098111, 0.11006367, 0.11219638, 0.11108485,\n",
       "        0.11131993, 0.11090415, 0.11219783, 0.11093228, 0.110723  ,\n",
       "        0.11057572, 0.11121387, 0.11124757, 0.1117825 , 0.11206818,\n",
       "        0.11090123, 0.11024267, 0.11006257, 0.11127561, 0.11066995,\n",
       "        0.10997666, 0.11102661, 0.11076826, 0.11113024, 0.11149166,\n",
       "        0.11125904, 0.11053438, 0.11080373, 0.11122782, 0.11179467,\n",
       "        0.11156073, 0.1114522 , 0.11146818, 0.11090177, 0.10998027,\n",
       "        0.1108052 , 0.11101999, 0.1111111 , 0.11179052, 0.10997896,\n",
       "        0.1112758 , 0.11054868, 0.11131196, 0.11099834, 0.11090351,\n",
       "        0.10982264, 0.11102526, 0.11139372, 0.11104546, 0.11070679,\n",
       "        0.11164775, 0.11167979, 0.11154101, 0.11079797, 0.11139529,\n",
       "        0.11072642, 0.10997222, 0.11166682, 0.11039377, 0.11218981,\n",
       "        0.11120092, 0.11109838, 0.11107779, 0.1104144 , 0.11069785,\n",
       "        0.11044897, 0.10991248, 0.11190377, 0.11057497, 0.11039921,\n",
       "        0.1102628 , 0.11079479, 0.11123162, 0.11102697, 0.11065433,\n",
       "        0.11025821, 0.11201717, 0.11050867, 0.11175804, 0.11157363,\n",
       "        0.11068304, 0.1118381 , 0.11088926, 0.1106404 , 0.11082238,\n",
       "        0.11037911, 0.11055829, 0.11134594, 0.11105319, 0.11186555,\n",
       "        0.11103637, 0.11182938, 0.11000274, 0.11156144, 0.11099472,\n",
       "        0.11126193, 0.11102535, 0.11093881, 0.11067582, 0.11052367,\n",
       "        0.11140709, 0.11041787, 0.11190601, 0.11135237, 0.11058797,\n",
       "        0.11171158, 0.11176587, 0.11141056, 0.11107896, 0.11141646,\n",
       "        0.1115089 , 0.1099726 , 0.11083783, 0.1118191 , 0.11096777,\n",
       "        0.11093793, 0.11129928, 0.1103268 , 0.11071845, 0.11102282,\n",
       "        0.11167452, 0.11119277, 0.11051569, 0.11083525, 0.11059572,\n",
       "        0.11095867, 0.11003366, 0.11090948, 0.11046635, 0.11141992,\n",
       "        0.11025105, 0.11119306, 0.11037303, 0.11122223, 0.11137366,\n",
       "        0.11023225, 0.11096661, 0.11161484, 0.11084119, 0.11095094,\n",
       "        0.11059557, 0.11029257, 0.11084468, 0.11102888, 0.11013293,\n",
       "        0.11147334, 0.11023258, 0.11090246, 0.11089376, 0.11035118,\n",
       "        0.11110236, 0.1118659 , 0.1114544 , 0.11078502, 0.112028  ,\n",
       "        0.11021572, 0.10994546, 0.11096273, 0.11110596, 0.11151197,\n",
       "        0.11205706, 0.11064754, 0.11134361, 0.11188332, 0.11136318,\n",
       "        0.11010772, 0.11035022, 0.11109857, 0.11215606, 0.11080231,\n",
       "        0.11135035, 0.11149528, 0.11052204, 0.11216005, 0.11030626,\n",
       "        0.11078972, 0.11146569, 0.11028505, 0.11004252, 0.11097555,\n",
       "        0.11064276, 0.11106078, 0.11126919, 0.11108856, 0.11053801,\n",
       "        0.11157103, 0.11060604, 0.11083253, 0.11112466, 0.1121932 ,\n",
       "        0.11082105, 0.11054632, 0.11066789, 0.11064129, 0.11087777,\n",
       "        0.10992439, 0.11057665, 0.11128352, 0.1108135 , 0.11049463,\n",
       "        0.11122416, 0.11093951, 0.11029268, 0.11114552, 0.11094534,\n",
       "        0.11125224, 0.11033922, 0.11121871, 0.1114745 , 0.10989846,\n",
       "        0.11188254, 0.11164712, 0.11109776, 0.11087117, 0.10997433,\n",
       "        0.11045125, 0.11049836, 0.11171823, 0.11164115, 0.11011625,\n",
       "        0.11145921, 0.11144386, 0.1110373 , 0.11201822, 0.11123328,\n",
       "        0.11119222, 0.11078153, 0.11069401, 0.11102541, 0.11078153,\n",
       "        0.11154974, 0.11131662, 0.1100308 , 0.11192725, 0.11158609,\n",
       "        0.10990394, 0.11072432, 0.11124594, 0.11010183, 0.1112444 ,\n",
       "        0.1118792 , 0.11053206, 0.11026753, 0.11087854, 0.11148391,\n",
       "        0.11163538, 0.11214663, 0.11149061, 0.11101126, 0.11122592,\n",
       "        0.11171519, 0.1105612 , 0.11090218, 0.11202808, 0.11133605,\n",
       "        0.11037824, 0.11192546, 0.11078552, 0.11066094, 0.11047853,\n",
       "        0.11165898, 0.11080201, 0.1110463 , 0.11148842, 0.1115095 ,\n",
       "        0.1106487 , 0.11117349, 0.11202366, 0.11140699, 0.11088771,\n",
       "        0.11193314, 0.11088296, 0.11040439, 0.11021929, 0.11122373,\n",
       "        0.1106389 , 0.11189627, 0.11170616, 0.11076107, 0.11106616,\n",
       "        0.10983709, 0.11082685, 0.11158452, 0.11075165, 0.111008  ,\n",
       "        0.10990012, 0.11102328, 0.11012923, 0.1114204 , 0.11093021,\n",
       "        0.11099192, 0.11137601, 0.11091589, 0.11053613, 0.11063457,\n",
       "        0.11163771, 0.11105803, 0.11021053, 0.1101129 , 0.11119575,\n",
       "        0.11023566, 0.1099623 , 0.11166098, 0.11091226, 0.11106105,\n",
       "        0.11133441, 0.11117056, 0.11100534, 0.10998807, 0.1116098 ,\n",
       "        0.11220024, 0.10997851, 0.11117554, 0.11087752, 0.11137254,\n",
       "        0.1112227 , 0.11214524, 0.11209863, 0.11125502, 0.11148469,\n",
       "        0.11212259, 0.11111864, 0.11194945, 0.11020776, 0.11191896,\n",
       "        0.11147481, 0.11155695, 0.11072892, 0.1099836 , 0.11133254,\n",
       "        0.11083758, 0.11150935, 0.11142206, 0.11146705, 0.11206214,\n",
       "        0.11182283, 0.11071659, 0.11089794, 0.11204344, 0.11082433,\n",
       "        0.1109196 , 0.11117436, 0.1105764 , 0.11124321, 0.11111245,\n",
       "        0.11163702, 0.11104613, 0.11005516, 0.11096015, 0.11127459,\n",
       "        0.1100798 , 0.11022639, 0.11119668, 0.11102671, 0.11120935,\n",
       "        0.11042298, 0.11032771, 0.10997356, 0.11072594, 0.11201928,\n",
       "        0.11120929, 0.1099252 , 0.11184996, 0.11190442, 0.1107853 ,\n",
       "        0.11100892, 0.11076529, 0.11154848, 0.11145051, 0.11094547,\n",
       "        0.10988421, 0.11053287, 0.11120141, 0.11177721, 0.11213462,\n",
       "        0.11123257, 0.11085244, 0.1114442 , 0.11156432, 0.11084621,\n",
       "        0.11147197, 0.11056165, 0.11016366, 0.11166498, 0.11085233,\n",
       "        0.11165683, 0.11164651, 0.11095493, 0.11059148, 0.11209355,\n",
       "        0.11091911, 0.11051147, 0.11146624, 0.11106979, 0.11090865,\n",
       "        0.11097761, 0.11137889, 0.1120079 , 0.11031068, 0.11154805,\n",
       "        0.11051702, 0.11108605, 0.11139255, 0.11187207, 0.1111645 ,\n",
       "        0.11218777, 0.1106844 , 0.11128537, 0.11088479, 0.11117314,\n",
       "        0.11140705, 0.1103899 , 0.11084135, 0.11041552, 0.10987461,\n",
       "        0.11110791, 0.11136008, 0.11056907, 0.11130664, 0.11056262,\n",
       "        0.11173751, 0.11202819, 0.11044653, 0.11094892, 0.11110566,\n",
       "        0.11042523, 0.11052806, 0.11096018, 0.11052558, 0.11073083,\n",
       "        0.11126733, 0.11141261, 0.11182674, 0.11140245, 0.11065173,\n",
       "        0.11205308, 0.11119685, 0.11160558, 0.11126258, 0.11163318]),\n",
       " array([0.16257765, 0.15149108, 0.15129785, 0.15126002, 0.15123517,\n",
       "        0.16137306, 0.16393726, 0.15165774, 0.15170114, 0.15968685,\n",
       "        0.15550089, 0.1549267 , 0.15566823, 0.15399798, 0.15130959,\n",
       "        0.15537197, 0.15135194, 0.16147911, 0.1526378 , 0.15479977,\n",
       "        0.15461727, 0.15681388, 0.16006958, 0.16512812, 0.15408539,\n",
       "        0.15244203, 0.1514595 , 0.1617646 , 0.15707098, 0.15183491,\n",
       "        0.15609124, 0.15998989, 0.15124996, 0.15250868, 0.1538177 ,\n",
       "        0.15309642, 0.1512801 , 0.15626997, 0.15156479, 0.15125611,\n",
       "        0.15378484, 0.16297064, 0.16016493, 0.15168347, 0.17127944,\n",
       "        0.15154461, 0.15570136, 0.15359676, 0.15401183, 0.15792981,\n",
       "        0.15606206, 0.15150336, 0.165977  , 0.15355018, 0.16811042,\n",
       "        0.15376706, 0.15724569, 0.1514324 , 0.15200392, 0.16240004,\n",
       "        0.15158652, 0.1512399 , 0.16226972, 0.17145203, 0.15144738,\n",
       "        0.15303544, 0.15128281, 0.17149699, 0.15124768, 0.15204387,\n",
       "        0.15333702, 0.15212848, 0.15238291, 0.16047951, 0.16766274,\n",
       "        0.15128775, 0.15839998, 0.16229585, 0.15261867, 0.1524407 ,\n",
       "        0.16441951, 0.15129344, 0.15176734, 0.15163375, 0.15515257,\n",
       "        0.15247671, 0.15380673, 0.15159067, 0.15222998, 0.16074771,\n",
       "        0.15622429, 0.15459639, 0.15481671, 0.15128682, 0.16432702,\n",
       "        0.15158414, 0.151282  , 0.15154809, 0.160656  , 0.16436055,\n",
       "        0.15262036, 0.15363905, 0.15295651, 0.15125328, 0.15128387,\n",
       "        0.1686302 , 0.151291  , 0.15384806, 0.15133277, 0.15215685,\n",
       "        0.15774842, 0.15835763, 0.15590562, 0.15161695, 0.15386705,\n",
       "        0.15202099, 0.16453383, 0.15810799, 0.15574574, 0.17125012,\n",
       "        0.15203903, 0.15149685, 0.15142362, 0.15542863, 0.15222226,\n",
       "        0.15492225, 0.16611283, 0.16330603, 0.15334517, 0.155661  ,\n",
       "        0.15801314, 0.15163189, 0.15225857, 0.15129408, 0.15257241,\n",
       "        0.15810062, 0.16624862, 0.15412201, 0.1599511 , 0.15643801,\n",
       "        0.15233551, 0.16173331, 0.15131048, 0.15269554, 0.15151202,\n",
       "        0.15597768, 0.15352938, 0.153305  , 0.15135182, 0.16237863,\n",
       "        0.15131254, 0.16153195, 0.16375752, 0.15623595, 0.15124977,\n",
       "        0.15250099, 0.15129116, 0.15124273, 0.15239299, 0.15393593,\n",
       "        0.15401109, 0.15537637, 0.16336139, 0.15337447, 0.15320681,\n",
       "        0.15898701, 0.16011876, 0.15405416, 0.15142747, 0.15412816,\n",
       "        0.15540845, 0.1645242 , 0.15145425, 0.16129663, 0.15123533,\n",
       "        0.15124333, 0.15283456, 0.15685074, 0.15207483, 0.15128674,\n",
       "        0.15825563, 0.15198521, 0.15403413, 0.15146341, 0.15312646,\n",
       "        0.15123509, 0.16299197, 0.15127444, 0.15467949, 0.15417203,\n",
       "        0.15823769, 0.15198707, 0.15607558, 0.15218866, 0.15361253,\n",
       "        0.1586041 , 0.15123516, 0.1571495 , 0.15144255, 0.15123674,\n",
       "        0.15312804, 0.15745976, 0.15143077, 0.15129763, 0.16068224,\n",
       "        0.15488928, 0.15859756, 0.15128565, 0.15130146, 0.15643518,\n",
       "        0.15151239, 0.16238708, 0.15462631, 0.15167944, 0.16654422,\n",
       "        0.15893349, 0.16523147, 0.15123491, 0.15152683, 0.15545483,\n",
       "        0.16734969, 0.15263178, 0.15328006, 0.16280572, 0.15349387,\n",
       "        0.16124707, 0.15645116, 0.1514976 , 0.17022488, 0.15159708,\n",
       "        0.15335256, 0.15520561, 0.15395588, 0.17034475, 0.15721259,\n",
       "        0.15165623, 0.15478185, 0.1575975 , 0.16277671, 0.15123738,\n",
       "        0.15267429, 0.15137213, 0.15256274, 0.15146045, 0.15376363,\n",
       "        0.15639465, 0.15302206, 0.1514733 , 0.15160772, 0.1713541 ,\n",
       "        0.15151729, 0.15366634, 0.15245771, 0.15268749, 0.15133611,\n",
       "        0.16579181, 0.15332697, 0.15268908, 0.15154823, 0.15430168,\n",
       "        0.15220284, 0.15124227, 0.15745772, 0.1517095 , 0.15123899,\n",
       "        0.15242072, 0.15663722, 0.15216303, 0.15490565, 0.16649439,\n",
       "        0.16278679, 0.15773676, 0.15149449, 0.15135252, 0.16447959,\n",
       "        0.15488997, 0.15425338, 0.15912195, 0.1576263 , 0.16105419,\n",
       "        0.15469224, 0.15448413, 0.15131451, 0.16627739, 0.15227116,\n",
       "        0.1519816 , 0.1516971 , 0.15225108, 0.15129127, 0.15169711,\n",
       "        0.15604547, 0.15300246, 0.16306191, 0.16389209, 0.15664868,\n",
       "        0.16634474, 0.15203502, 0.15236992, 0.16138132, 0.15235763,\n",
       "        0.16270599, 0.15383438, 0.15792381, 0.15133428, 0.15504013,\n",
       "        0.15752013, 0.16994256, 0.15513726, 0.15126882, 0.15221581,\n",
       "        0.15906012, 0.15349676, 0.15128612, 0.16654649, 0.1532003 ,\n",
       "        0.15599168, 0.16384704, 0.15167697, 0.15251589, 0.15451416,\n",
       "        0.15795903, 0.15159846, 0.15133475, 0.15510543, 0.1554175 ,\n",
       "        0.1526216 , 0.15186517, 0.16642548, 0.15400988, 0.15131372,\n",
       "        0.16404111, 0.15132406, 0.15558113, 0.15886179, 0.15219963,\n",
       "        0.15270915, 0.16312136, 0.1588781 , 0.15180745, 0.15138755,\n",
       "        0.16821377, 0.15149459, 0.15662181, 0.15186216, 0.15126446,\n",
       "        0.16644906, 0.15128753, 0.16076413, 0.15417815, 0.1512495 ,\n",
       "        0.15124732, 0.15363961, 0.15126543, 0.15378586, 0.15274868,\n",
       "        0.15756281, 0.15136459, 0.15903827, 0.16112974, 0.15200468,\n",
       "        0.15853712, 0.16479063, 0.15799697, 0.15127039, 0.1513729 ,\n",
       "        0.15318322, 0.15184784, 0.15126111, 0.16412809, 0.15706022,\n",
       "        0.17157127, 0.16437213, 0.15187741, 0.15133671, 0.15359973,\n",
       "        0.15219212, 0.16990096, 0.16853262, 0.15244342, 0.15505139,\n",
       "        0.16923061, 0.1515806 , 0.16445754, 0.15909434, 0.1636838 ,\n",
       "        0.15491003, 0.15616243, 0.15200444, 0.16424188, 0.15316385,\n",
       "        0.15145513, 0.15541526, 0.15419937, 0.15480088, 0.16749244,\n",
       "        0.16138169, 0.1520877 , 0.1512936 , 0.16697017, 0.15150434,\n",
       "        0.15126075, 0.15187037, 0.15332969, 0.15234824, 0.15155379,\n",
       "        0.15755026, 0.15133434, 0.16247258, 0.15123497, 0.15260974,\n",
       "        0.16189004, 0.15872015, 0.15201078, 0.15129361, 0.15209671,\n",
       "        0.1553    , 0.15683495, 0.16449931, 0.15202421, 0.16630615,\n",
       "        0.15209633, 0.16577001, 0.16201003, 0.16332203, 0.15167807,\n",
       "        0.15126566, 0.15178374, 0.15602511, 0.15457349, 0.15123892,\n",
       "        0.16688662, 0.15382472, 0.15204237, 0.1603641 , 0.1695852 ,\n",
       "        0.15226579, 0.15140579, 0.15448866, 0.15628328, 0.15142572,\n",
       "        0.15486987, 0.15349168, 0.16001388, 0.15807287, 0.15140616,\n",
       "        0.15791854, 0.15772537, 0.15123568, 0.15317016, 0.16838627,\n",
       "        0.15126135, 0.1540868 , 0.15478958, 0.15139838, 0.15127569,\n",
       "        0.15123822, 0.15367289, 0.16599752, 0.1571339 , 0.15601828,\n",
       "        0.15401761, 0.15145155, 0.15383405, 0.16253459, 0.15181276,\n",
       "        0.17118746, 0.15232491, 0.15270579, 0.15132001, 0.15186306,\n",
       "        0.15401058, 0.15580642, 0.15144202, 0.15541177, 0.1671533 ,\n",
       "        0.15153479, 0.15345931, 0.15340945, 0.15290478, 0.15348083,\n",
       "        0.15951883, 0.16654962, 0.15495694, 0.15123745, 0.1515256 ,\n",
       "        0.15526661, 0.1538826 , 0.15123497, 0.15391257, 0.15199194,\n",
       "        0.15254678, 0.15407985, 0.16147124, 0.15395395, 0.15259505,\n",
       "        0.16723831, 0.15201192, 0.15698591, 0.15250646, 0.15748006]))"
      ]
     },
     "execution_count": 152,
     "metadata": {},
     "output_type": "execute_result"
    }
   ],
   "source": [
    "port_ret = []\n",
    "port_vol = []\n",
    "for x in range(500): # inicialmente usar 1000\n",
    "    w = np.random.random(num_assets)\n",
    "    w /= np.sum(w)\n",
    "    port_ret.append(np.sum(w * log_ret_port.mean()) *250)\n",
    "    port_vol.append(np.sqrt(np.dot(w.T, np.dot(log_ret_port.cov() *250, w))))\n",
    "\n",
    "port_ret = np.array(port_ret)\n",
    "port_vol = np.array(port_vol)\n",
    "\n",
    "port_ret, port_vol"
   ]
  },
  {
   "cell_type": "code",
   "execution_count": 153,
   "metadata": {},
   "outputs": [],
   "source": [
    "portifolios = pd.DataFrame({'Retornos': port_ret, 'Volatilidade': port_vol})"
   ]
  },
  {
   "cell_type": "code",
   "execution_count": 154,
   "metadata": {},
   "outputs": [
    {
     "data": {
      "text/html": [
       "<div>\n",
       "<style scoped>\n",
       "    .dataframe tbody tr th:only-of-type {\n",
       "        vertical-align: middle;\n",
       "    }\n",
       "\n",
       "    .dataframe tbody tr th {\n",
       "        vertical-align: top;\n",
       "    }\n",
       "\n",
       "    .dataframe thead th {\n",
       "        text-align: right;\n",
       "    }\n",
       "</style>\n",
       "<table border=\"1\" class=\"dataframe\">\n",
       "  <thead>\n",
       "    <tr style=\"text-align: right;\">\n",
       "      <th></th>\n",
       "      <th>Retornos</th>\n",
       "      <th>Volatilidade</th>\n",
       "    </tr>\n",
       "  </thead>\n",
       "  <tbody>\n",
       "    <tr>\n",
       "      <th>0</th>\n",
       "      <td>0.111874</td>\n",
       "      <td>0.162578</td>\n",
       "    </tr>\n",
       "    <tr>\n",
       "      <th>1</th>\n",
       "      <td>0.111097</td>\n",
       "      <td>0.151491</td>\n",
       "    </tr>\n",
       "    <tr>\n",
       "      <th>2</th>\n",
       "      <td>0.111029</td>\n",
       "      <td>0.151298</td>\n",
       "    </tr>\n",
       "    <tr>\n",
       "      <th>3</th>\n",
       "      <td>0.111004</td>\n",
       "      <td>0.151260</td>\n",
       "    </tr>\n",
       "    <tr>\n",
       "      <th>4</th>\n",
       "      <td>0.110958</td>\n",
       "      <td>0.151235</td>\n",
       "    </tr>\n",
       "  </tbody>\n",
       "</table>\n",
       "</div>"
      ],
      "text/plain": [
       "   Retornos  Volatilidade\n",
       "0  0.111874      0.162578\n",
       "1  0.111097      0.151491\n",
       "2  0.111029      0.151298\n",
       "3  0.111004      0.151260\n",
       "4  0.110958      0.151235"
      ]
     },
     "execution_count": 154,
     "metadata": {},
     "output_type": "execute_result"
    }
   ],
   "source": [
    "portifolios.head()"
   ]
  },
  {
   "cell_type": "code",
   "execution_count": 155,
   "metadata": {},
   "outputs": [
    {
     "data": {
      "text/html": [
       "<div>\n",
       "<style scoped>\n",
       "    .dataframe tbody tr th:only-of-type {\n",
       "        vertical-align: middle;\n",
       "    }\n",
       "\n",
       "    .dataframe tbody tr th {\n",
       "        vertical-align: top;\n",
       "    }\n",
       "\n",
       "    .dataframe thead th {\n",
       "        text-align: right;\n",
       "    }\n",
       "</style>\n",
       "<table border=\"1\" class=\"dataframe\">\n",
       "  <thead>\n",
       "    <tr style=\"text-align: right;\">\n",
       "      <th></th>\n",
       "      <th>Retornos</th>\n",
       "      <th>Volatilidade</th>\n",
       "    </tr>\n",
       "  </thead>\n",
       "  <tbody>\n",
       "    <tr>\n",
       "      <th>495</th>\n",
       "      <td>0.112053</td>\n",
       "      <td>0.167238</td>\n",
       "    </tr>\n",
       "    <tr>\n",
       "      <th>496</th>\n",
       "      <td>0.111197</td>\n",
       "      <td>0.152012</td>\n",
       "    </tr>\n",
       "    <tr>\n",
       "      <th>497</th>\n",
       "      <td>0.111606</td>\n",
       "      <td>0.156986</td>\n",
       "    </tr>\n",
       "    <tr>\n",
       "      <th>498</th>\n",
       "      <td>0.111263</td>\n",
       "      <td>0.152506</td>\n",
       "    </tr>\n",
       "    <tr>\n",
       "      <th>499</th>\n",
       "      <td>0.111633</td>\n",
       "      <td>0.157480</td>\n",
       "    </tr>\n",
       "  </tbody>\n",
       "</table>\n",
       "</div>"
      ],
      "text/plain": [
       "     Retornos  Volatilidade\n",
       "495  0.112053      0.167238\n",
       "496  0.111197      0.152012\n",
       "497  0.111606      0.156986\n",
       "498  0.111263      0.152506\n",
       "499  0.111633      0.157480"
      ]
     },
     "execution_count": 155,
     "metadata": {},
     "output_type": "execute_result"
    }
   ],
   "source": [
    "portifolios.tail()"
   ]
  },
  {
   "cell_type": "code",
   "execution_count": 156,
   "metadata": {},
   "outputs": [
    {
     "data": {
      "text/plain": [
       "Text(0, 0.5, 'Retornos Expectativa')"
      ]
     },
     "execution_count": 156,
     "metadata": {},
     "output_type": "execute_result"
    },
    {
     "data": {
      "image/png": "[encoded data removed]",
      "text/plain": [
       "<Figure size 720x432 with 1 Axes>"
      ]
     },
     "metadata": {},
     "output_type": "display_data"
    }
   ],
   "source": [
    "portifolios.plot(x='Volatilidade', y='Retornos', kind='scatter', figsize=(10, 6))\n",
    "plt.xlabel('Volatilidade Exectativa')\n",
    "plt.ylabel('Retornos Expectativa')"
   ]
  },
  {
   "cell_type": "code",
   "execution_count": null,
   "metadata": {},
   "outputs": [],
   "source": []
  }
 ],
 "metadata": {
  "interpreter": {
   "hash": "b3ba2566441a7c06988d0923437866b63cedc61552a5af99d1f4fb67d367b25f"
  },
  "kernelspec": {
   "display_name": "Python 3.8.8 64-bit ('base': conda)",
   "language": "python",
   "name": "python3"
  },
  "language_info": {
   "codemirror_mode": {
    "name": "ipython",
    "version": 3
   },
   "file_extension": ".py",
   "mimetype": "text/x-python",
   "name": "python",
   "nbconvert_exporter": "python",
   "pygments_lexer": "ipython3",
   "version": "3.8.8"
  },
  "orig_nbformat": 4
 },
 "nbformat": 4,
 "nbformat_minor": 2
}
