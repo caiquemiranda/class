{
 "cells": [
  {
   "cell_type": "code",
   "execution_count": null,
   "metadata": {},
   "outputs": [],
   "source": [
    "import pyaudio  \n",
    "import wave  \n",
    "  \n",
    "filename = ' example.wav '  \n",
    "  \n",
    "# Set chunk size of 1024 samples per data frame  \n",
    "chunksize = 1024    \n",
    "  \n",
    "# Now open the sound file, name as wavefile  \n",
    "wavefile = wave.open ( filename, ' rb ' )  \n",
    "  \n",
    "# Create an interface to PortAudio  \n",
    "portaudio = pyaudio.PyAudio ( )  \n",
    "  \n",
    "# Open a .Stream object to write the WAV file to play the audio using pyaudio  \n",
    "# in this code, 'output = True' means that the audio will be played rather than recorded  \n",
    "streamobject = portaudio.open(format = portaudio.get_format_from_width ( wavefile.getsampwidth ( ) ),  \n",
    "                channels = wavefile.getnchannels ( ),  \n",
    "                rate = wavefile.getframerate ( ),  \n",
    "                output = True ( )  \n",
    "  \n",
    "# Read data in chunksize  \n",
    "Data_audio = wavefile.readframes ( chunksize )  \n",
    "  \n",
    "# Play the audio by writing the audio data to the streamobject  \n",
    "while data != '':  \n",
    "    streamobject.write ( data_audio )  \n",
    "    data_audio = wavefile.readframes ( chunksize )  \n",
    "  \n",
    "# Close and terminate the streamobject  \n",
    "streamobject.close ( )  \n",
    "portaudio.terminate ( )  "
   ]
  }
 ],
 "metadata": {
  "kernelspec": {
   "display_name": "Python 3.10.5 64-bit (system)",
   "language": "python",
   "name": "python3"
  },
  "language_info": {
   "name": "python",
   "version": "3.10.5"
  },
  "orig_nbformat": 4,
  "vscode": {
   "interpreter": {
    "hash": "74af3d2f25f1e46ebd2903d59225d79e4675ec224d56c01fc30cd168c2010d53"
   }
  }
 },
 "nbformat": 4,
 "nbformat_minor": 2
}
