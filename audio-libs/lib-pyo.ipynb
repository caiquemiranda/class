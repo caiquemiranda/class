{
 "cells": [
  {
   "cell_type": "code",
   "execution_count": null,
   "metadata": {},
   "outputs": [],
   "source": [
    "# example\n",
    "\n",
    "# to play a sound file:  \n",
    "from pyo import *  \n",
    "sound = Server ( ) .boot ( )  \n",
    "sound.start  ( )  \n",
    "sound_file = SFPlayer ( \" path /to /users /sound.aif \", speed = 1, loop = True ).out ( )  \n",
    "\n",
    "# for Granulating an audio buffer:  \n",
    "sound = Server ( ) .boot ( )  \n",
    "sound_nd = SndTable ( \" path /to /users /sound.aif \" )  \n",
    "ev = HannTable ( )   \n",
    "ps = Phasor ( freq = sound_nd.getRate ( )*.25, ml = sound_nd.getSize ( ) )  \n",
    "dr = Noise ( mul = .001, add = .1 )  \n",
    "granulate = Granulator ( sound_nd, ev, [ 1, 1.001 ] , ps, dr, 32, ml = .1 ).out ( )  \n",
    "\n",
    "# to generate melodies:  \n",
    "sound = Server ( ) .boot ( )  \n",
    "sound.start ( )  \n",
    "wv = SquareTable ( )  \n",
    "ev = CosTable ( [ ( 0, 0 ) , ( 100 , 1 ) , ( 500 , 0.3 ) , ( 8391 , 0 ) ] )  \n",
    "mt = Metro ( 0.135 , 12 ).play ( )  \n",
    "ap = TrigEnv ( mt , table = ev , dr = 1 , ml = .1 )  \n",
    "pt = TrigXnoiseMidi ( mt , dist = ' loopseg ' , x1 = 20 , scale = 1 , mrange = ( 47, 74 ) )  \n",
    "out = Osc ( table = wav , freq = pt , ml = ap ).out ( )  "
   ]
  }
 ],
 "metadata": {
  "language_info": {
   "name": "python"
  },
  "orig_nbformat": 4
 },
 "nbformat": 4,
 "nbformat_minor": 2
}
